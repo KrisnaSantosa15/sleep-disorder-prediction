{
 "cells": [
  {
   "cell_type": "markdown",
   "id": "0b004507",
   "metadata": {},
   "source": [
    "# Test Model TF Serving Sleep Disorder Prediction (Railway Platform)\n",
    "\n",
    "Pada tahapan ini, kita akan melakukan percobaan prediksi dengan data yang diinputkan oleh pengguna menggunakan model yang telah dilakukan deployment pada platform Railway `https://sleep-disorder-prediction.up.railway.app/v1/models/sleep_disorder/`. Namun, tipe data untuk input tersebut harus sesuai dengan proses training model, maka dari itu setiap fitur akan dipetakan kedalam tipe data yang sama dengan proses training."
   ]
  },
  {
   "cell_type": "code",
   "execution_count": 29,
   "id": "171bc0b9",
   "metadata": {},
   "outputs": [],
   "source": [
    "import tensorflow as tf\n",
    "import requests\n",
    "import base64\n",
    "import numpy as np\n",
    "\n",
    "# Label untuk gangguan tidur\n",
    "sleep_disorder_labels = [\"None\", \"Insomnia\", \"Sleep Apnea\"]\n",
    "\n",
    "# Input data\n",
    "data = {\n",
    "    \"age\": 35,\n",
    "    \"daily_steps\": 5000,\n",
    "    \"heart_rate\": 72,\n",
    "    \"physical_activity_level\": 30,\n",
    "    \"quality_of_sleep\": 7,\n",
    "    \"sleep_duration\": 6.5,\n",
    "    \"stress_level\": 5,\n",
    "    \"bmi_category\": \"Normal\",\n",
    "    \"blood_pressure\": \"120/80\",\n",
    "    \"gender\": \"Male\",\n",
    "    \"occupation\": \"Software Engineer\",\n",
    "    \"person_id\": 1\n",
    "}\n",
    "\n",
    "# Convert data to tf.train.Feature\n",
    "def _bytes_feature(value):\n",
    "    return tf.train.Feature(bytes_list=tf.train.BytesList(value=[value.encode(\"utf-8\")]))\n",
    "\n",
    "def _float_feature(value):\n",
    "    return tf.train.Feature(float_list=tf.train.FloatList(value=[value]))\n",
    "\n",
    "def _int64_feature(value):\n",
    "    return tf.train.Feature(int64_list=tf.train.Int64List(value=[value]))\n",
    "\n",
    "features = {\n",
    "    \"age\": _int64_feature(data[\"age\"]),\n",
    "    \"daily_steps\": _int64_feature(data[\"daily_steps\"]),\n",
    "    \"heart_rate\": _int64_feature(data[\"heart_rate\"]),\n",
    "    \"physical_activity_level\": _int64_feature(data[\"physical_activity_level\"]),\n",
    "    \"quality_of_sleep\": _int64_feature(data[\"quality_of_sleep\"]),\n",
    "    \"sleep_duration\": _float_feature(data[\"sleep_duration\"]),\n",
    "    \"stress_level\": _int64_feature(data[\"stress_level\"]),\n",
    "    \"bmi_category\": _bytes_feature(data[\"bmi_category\"]),\n",
    "    \"blood_pressure\": _bytes_feature(data[\"blood_pressure\"]),\n",
    "    \"gender\": _bytes_feature(data[\"gender\"]),\n",
    "    \"occupation\": _bytes_feature(data[\"occupation\"]),\n",
    "    \"person_id\": _int64_feature(data[\"person_id\"])\n",
    "}\n",
    "\n",
    "# Create Example proto\n",
    "example_proto = tf.train.Example(features=tf.train.Features(feature=features))\n",
    "serialized_example = example_proto.SerializeToString()"
   ]
  },
  {
   "cell_type": "markdown",
   "id": "dee0b079",
   "metadata": {},
   "source": [
    "Setelah membuat input yang sudah dilakukan serialized agar sesuai dengan model, saatnya kita mencoba untuk memprediksi data tersebut dengan melakukan hit API `https://sleep-disorder-prediction.up.railway.app/v1/models/sleep_disorder:predict`."
   ]
  },
  {
   "cell_type": "code",
   "execution_count": 31,
   "id": "32567eec",
   "metadata": {},
   "outputs": [
    {
     "name": "stdout",
     "output_type": "stream",
     "text": [
      "{'outputs': [[0.688410282, 0.0172452554, 0.154451817, 0.0174784511, 0.0518649593, 0.0447131209, 0.0258361585]]}\n",
      "Predicted Label: None\n",
      "Probabilities: [0.688410282, 0.0172452554, 0.154451817, 0.0174784511, 0.0518649593, 0.0447131209, 0.0258361585]\n"
     ]
    }
   ],
   "source": [
    "# Prepare payload for REST API\n",
    "payload = {\n",
    "    \"inputs\": {\n",
    "        \"examples\": [\n",
    "            {\"b64\": base64.b64encode(serialized_example).decode(\"utf-8\")}\n",
    "        ]\n",
    "    }\n",
    "}\n",
    "\n",
    "# Send POST request to the model endpoint\n",
    "response = requests.post(\n",
    "    \"https://sleep-disorder-prediction.up.railway.app/v1/models/sleep_disorder:predict\",\n",
    "    json=payload\n",
    ")\n",
    "\n",
    "print(response.json())\n",
    "\n",
    "# Get prediction result\n",
    "predictions = response.json().get(\"outputs\", [[]])[0]\n",
    "\n",
    "# Get the predicted label\n",
    "predicted_index = np.argmax(predictions)\n",
    "predicted_label = sleep_disorder_labels[predicted_index]\n",
    "\n",
    "print(f\"Predicted Label: {predicted_label}\")\n",
    "print(f\"Probabilities: {predictions}\")"
   ]
  }
 ],
 "metadata": {
  "kernelspec": {
   "display_name": "Python 3 (ipykernel)",
   "language": "python",
   "name": "python3"
  },
  "language_info": {
   "codemirror_mode": {
    "name": "ipython",
    "version": 3
   },
   "file_extension": ".py",
   "mimetype": "text/x-python",
   "name": "python",
   "nbconvert_exporter": "python",
   "pygments_lexer": "ipython3",
   "version": "3.9.15"
  }
 },
 "nbformat": 4,
 "nbformat_minor": 5
}
